{
 "cells": [
  {
   "cell_type": "code",
   "execution_count": 5,
   "metadata": {},
   "outputs": [],
   "source": [
    "from spot.Spot import Spot\n",
    "from spot.constants import ROOT_DIR\n",
    "import os\n",
    "\n",
    "FUNCTION_DIR = \"serverless_functions\"\n",
    "FUNCTION = \"aes\"\n",
    "MODEL = \"polynomial\"\n",
    "\n",
    "MEM_SIZE = \"Memory Size\"\n",
    "\n",
    "path = os.path.join(ROOT_DIR, FUNCTION_DIR, FUNCTION)\n",
    "spot = Spot(path, MODEL)\n",
    "\n",
    "spot.ml_model.fetch_data()\n",
    "df = spot.ml_model._df\n",
    "df[MEM_SIZE] = df[MEM_SIZE].astype(int)"
   ]
  },
  {
   "cell_type": "code",
   "execution_count": 6,
   "metadata": {},
   "outputs": [
    {
     "data": {
      "text/html": [
       "<div>\n",
       "<style scoped>\n",
       "    .dataframe tbody tr th:only-of-type {\n",
       "        vertical-align: middle;\n",
       "    }\n",
       "\n",
       "    .dataframe tbody tr th {\n",
       "        vertical-align: top;\n",
       "    }\n",
       "\n",
       "    .dataframe thead th {\n",
       "        text-align: right;\n",
       "    }\n",
       "</style>\n",
       "<table border=\"1\" class=\"dataframe\">\n",
       "  <thead>\n",
       "    <tr style=\"text-align: right;\">\n",
       "      <th></th>\n",
       "      <th>Runtime</th>\n",
       "      <th>Timeout</th>\n",
       "      <th>Memory Size</th>\n",
       "      <th>Architectures</th>\n",
       "      <th>Region</th>\n",
       "      <th>Cost</th>\n",
       "    </tr>\n",
       "  </thead>\n",
       "  <tbody>\n",
       "    <tr>\n",
       "      <th>0</th>\n",
       "      <td>python3.8</td>\n",
       "      <td>3</td>\n",
       "      <td>128</td>\n",
       "      <td>x86_64</td>\n",
       "      <td>us-east-2</td>\n",
       "      <td>0.000033</td>\n",
       "    </tr>\n",
       "    <tr>\n",
       "      <th>1</th>\n",
       "      <td>python3.8</td>\n",
       "      <td>3</td>\n",
       "      <td>128</td>\n",
       "      <td>x86_64</td>\n",
       "      <td>us-east-2</td>\n",
       "      <td>0.00005</td>\n",
       "    </tr>\n",
       "    <tr>\n",
       "      <th>2</th>\n",
       "      <td>python3.8</td>\n",
       "      <td>3</td>\n",
       "      <td>128</td>\n",
       "      <td>x86_64</td>\n",
       "      <td>us-east-2</td>\n",
       "      <td>0.000233</td>\n",
       "    </tr>\n",
       "    <tr>\n",
       "      <th>3</th>\n",
       "      <td>python3.8</td>\n",
       "      <td>3</td>\n",
       "      <td>128</td>\n",
       "      <td>x86_64</td>\n",
       "      <td>us-east-2</td>\n",
       "      <td>0.000117</td>\n",
       "    </tr>\n",
       "    <tr>\n",
       "      <th>4</th>\n",
       "      <td>python3.8</td>\n",
       "      <td>3</td>\n",
       "      <td>128</td>\n",
       "      <td>x86_64</td>\n",
       "      <td>us-east-2</td>\n",
       "      <td>0.000467</td>\n",
       "    </tr>\n",
       "  </tbody>\n",
       "</table>\n",
       "</div>"
      ],
      "text/plain": [
       "     Runtime Timeout  Memory Size Architectures     Region      Cost\n",
       "0  python3.8       3          128        x86_64  us-east-2  0.000033\n",
       "1  python3.8       3          128        x86_64  us-east-2   0.00005\n",
       "2  python3.8       3          128        x86_64  us-east-2  0.000233\n",
       "3  python3.8       3          128        x86_64  us-east-2  0.000117\n",
       "4  python3.8       3          128        x86_64  us-east-2  0.000467"
      ]
     },
     "execution_count": 6,
     "metadata": {},
     "output_type": "execute_result"
    }
   ],
   "source": [
    "df.head()"
   ]
  },
  {
   "cell_type": "code",
   "execution_count": 7,
   "metadata": {},
   "outputs": [
    {
     "data": {
      "text/plain": [
       "array([[<AxesSubplot:title={'center':'Memory Size'}>]], dtype=object)"
      ]
     },
     "execution_count": 7,
     "metadata": {},
     "output_type": "execute_result"
    },
    {
     "data": {
      "image/png": "[encoded data removed]",
      "text/plain": [
       "<Figure size 432x288 with 1 Axes>"
      ]
     },
     "metadata": {
      "needs_background": "light"
     },
     "output_type": "display_data"
    }
   ],
   "source": [
    "df[df[MEM_SIZE] < 2500].hist(bins=20, column=\"Memory Size\")\n",
    "# df.dtypes"
   ]
  },
  {
   "cell_type": "code",
   "execution_count": 10,
   "metadata": {},
   "outputs": [
    {
     "data": {
      "text/plain": [
       "128     1554\n",
       "180       44\n",
       "200       44\n",
       "228       44\n",
       "256       88\n",
       "300       44\n",
       "400      132\n",
       "512       88\n",
       "600       44\n",
       "700       44\n",
       "900       44\n",
       "1024      88\n",
       "1100       4\n",
       "1820      22\n",
       "2048      44\n",
       "2400      44\n",
       "3008      44\n",
       "3512      22\n",
       "4096      44\n",
       "5204      22\n",
       "6896      22\n",
       "8192      88\n",
       "8588      66\n",
       "Name: Memory Size, dtype: int64"
      ]
     },
     "execution_count": 10,
     "metadata": {},
     "output_type": "execute_result"
    }
   ],
   "source": [
    "df[MEM_SIZE].value_counts().sort_index()"
   ]
  },
  {
   "cell_type": "code",
   "execution_count": 15,
   "metadata": {},
   "outputs": [
    {
     "data": {
      "text/html": [
       "<div>\n",
       "<style scoped>\n",
       "    .dataframe tbody tr th:only-of-type {\n",
       "        vertical-align: middle;\n",
       "    }\n",
       "\n",
       "    .dataframe tbody tr th {\n",
       "        vertical-align: top;\n",
       "    }\n",
       "\n",
       "    .dataframe thead th {\n",
       "        text-align: right;\n",
       "    }\n",
       "</style>\n",
       "<table border=\"1\" class=\"dataframe\">\n",
       "  <thead>\n",
       "    <tr style=\"text-align: right;\">\n",
       "      <th></th>\n",
       "      <th>Cost</th>\n",
       "    </tr>\n",
       "    <tr>\n",
       "      <th>Memory Size</th>\n",
       "      <th></th>\n",
       "    </tr>\n",
       "  </thead>\n",
       "  <tbody>\n",
       "    <tr>\n",
       "      <th>400</th>\n",
       "      <td>0.000225</td>\n",
       "    </tr>\n",
       "    <tr>\n",
       "      <th>300</th>\n",
       "      <td>0.000250</td>\n",
       "    </tr>\n",
       "    <tr>\n",
       "      <th>200</th>\n",
       "      <td>0.000271</td>\n",
       "    </tr>\n",
       "    <tr>\n",
       "      <th>228</th>\n",
       "      <td>0.000278</td>\n",
       "    </tr>\n",
       "    <tr>\n",
       "      <th>1100</th>\n",
       "      <td>0.000286</td>\n",
       "    </tr>\n",
       "    <tr>\n",
       "      <th>180</th>\n",
       "      <td>0.000290</td>\n",
       "    </tr>\n",
       "    <tr>\n",
       "      <th>512</th>\n",
       "      <td>0.000292</td>\n",
       "    </tr>\n",
       "    <tr>\n",
       "      <th>256</th>\n",
       "      <td>0.000294</td>\n",
       "    </tr>\n",
       "    <tr>\n",
       "      <th>600</th>\n",
       "      <td>0.000302</td>\n",
       "    </tr>\n",
       "    <tr>\n",
       "      <th>700</th>\n",
       "      <td>0.000352</td>\n",
       "    </tr>\n",
       "    <tr>\n",
       "      <th>900</th>\n",
       "      <td>0.000442</td>\n",
       "    </tr>\n",
       "    <tr>\n",
       "      <th>1024</th>\n",
       "      <td>0.000511</td>\n",
       "    </tr>\n",
       "    <tr>\n",
       "      <th>1820</th>\n",
       "      <td>0.000959</td>\n",
       "    </tr>\n",
       "    <tr>\n",
       "      <th>2048</th>\n",
       "      <td>0.001012</td>\n",
       "    </tr>\n",
       "    <tr>\n",
       "      <th>128</th>\n",
       "      <td>0.001305</td>\n",
       "    </tr>\n",
       "    <tr>\n",
       "      <th>2400</th>\n",
       "      <td>0.001335</td>\n",
       "    </tr>\n",
       "    <tr>\n",
       "      <th>3008</th>\n",
       "      <td>0.001495</td>\n",
       "    </tr>\n",
       "    <tr>\n",
       "      <th>3512</th>\n",
       "      <td>0.001767</td>\n",
       "    </tr>\n",
       "    <tr>\n",
       "      <th>4096</th>\n",
       "      <td>0.002085</td>\n",
       "    </tr>\n",
       "    <tr>\n",
       "      <th>5204</th>\n",
       "      <td>0.002556</td>\n",
       "    </tr>\n",
       "    <tr>\n",
       "      <th>6896</th>\n",
       "      <td>0.003469</td>\n",
       "    </tr>\n",
       "    <tr>\n",
       "      <th>8192</th>\n",
       "      <td>0.004364</td>\n",
       "    </tr>\n",
       "    <tr>\n",
       "      <th>8588</th>\n",
       "      <td>0.004490</td>\n",
       "    </tr>\n",
       "  </tbody>\n",
       "</table>\n",
       "</div>"
      ],
      "text/plain": [
       "                 Cost\n",
       "Memory Size          \n",
       "400          0.000225\n",
       "300          0.000250\n",
       "200          0.000271\n",
       "228          0.000278\n",
       "1100         0.000286\n",
       "180          0.000290\n",
       "512          0.000292\n",
       "256          0.000294\n",
       "600          0.000302\n",
       "700          0.000352\n",
       "900          0.000442\n",
       "1024         0.000511\n",
       "1820         0.000959\n",
       "2048         0.001012\n",
       "128          0.001305\n",
       "2400         0.001335\n",
       "3008         0.001495\n",
       "3512         0.001767\n",
       "4096         0.002085\n",
       "5204         0.002556\n",
       "6896         0.003469\n",
       "8192         0.004364\n",
       "8588         0.004490"
      ]
     },
     "execution_count": 15,
     "metadata": {},
     "output_type": "execute_result"
    }
   ],
   "source": [
    "df[[MEM_SIZE, 'Cost']].groupby(MEM_SIZE).mean().sort_values(by='Cost')"
   ]
  },
  {
   "cell_type": "code",
   "execution_count": 8,
   "metadata": {},
   "outputs": [
    {
     "ename": "AttributeError",
     "evalue": "'NoneType' object has no attribute 'min'",
     "output_type": "error",
     "traceback": [
      "\u001b[0;31m---------------------------------------------------------------------------\u001b[0m",
      "\u001b[0;31mAttributeError\u001b[0m                            Traceback (most recent call last)",
      "Input \u001b[0;32mIn [8]\u001b[0m, in \u001b[0;36m<cell line: 1>\u001b[0;34m()\u001b[0m\n\u001b[0;32m----> 1\u001b[0m spot\u001b[39m.\u001b[39;49mplot_memsize_vs_cost()\n",
      "File \u001b[0;32m~/ubc-SPOT/spot/Spot.py:133\u001b[0m, in \u001b[0;36mSpot.plot_memsize_vs_cost\u001b[0;34m(self)\u001b[0m\n\u001b[1;32m    <a href='file:///home/eriklangille/ubc-SPOT/spot/Spot.py?line=131'>132</a>\u001b[0m \u001b[39mdef\u001b[39;00m \u001b[39mplot_memsize_vs_cost\u001b[39m(\u001b[39mself\u001b[39m):\n\u001b[0;32m--> <a href='file:///home/eriklangille/ubc-SPOT/spot/Spot.py?line=132'>133</a>\u001b[0m     \u001b[39mself\u001b[39;49m\u001b[39m.\u001b[39;49mml_model\u001b[39m.\u001b[39;49mplot_memsize_vs_cost()\n",
      "File \u001b[0;32m~/ubc-SPOT/spot/mlModel/polynomial_regression.py:96\u001b[0m, in \u001b[0;36mPolynomialRegressionModel.plot_memsize_vs_cost\u001b[0;34m(self)\u001b[0m\n\u001b[1;32m     <a href='file:///home/eriklangille/ubc-SPOT/spot/mlModel/polynomial_regression.py?line=92'>93</a>\u001b[0m plt\u001b[39m.\u001b[39mscatter(\u001b[39mself\u001b[39m\u001b[39m.\u001b[39m_x, \u001b[39mself\u001b[39m\u001b[39m.\u001b[39m_y)\n\u001b[1;32m     <a href='file:///home/eriklangille/ubc-SPOT/spot/mlModel/polynomial_regression.py?line=94'>95</a>\u001b[0m \u001b[39m# Add linear regression line\u001b[39;00m\n\u001b[0;32m---> <a href='file:///home/eriklangille/ubc-SPOT/spot/mlModel/polynomial_regression.py?line=95'>96</a>\u001b[0m xvars \u001b[39m=\u001b[39m np\u001b[39m.\u001b[39mlinspace(\u001b[39mself\u001b[39;49m\u001b[39m.\u001b[39;49m_x\u001b[39m.\u001b[39;49mmin(), \u001b[39mself\u001b[39m\u001b[39m.\u001b[39m_x\u001b[39m.\u001b[39mmax(), \u001b[39m1024\u001b[39m)\n\u001b[1;32m     <a href='file:///home/eriklangille/ubc-SPOT/spot/mlModel/polynomial_regression.py?line=96'>97</a>\u001b[0m plt\u001b[39m.\u001b[39mplot(\n\u001b[1;32m     <a href='file:///home/eriklangille/ubc-SPOT/spot/mlModel/polynomial_regression.py?line=97'>98</a>\u001b[0m     xvars,\n\u001b[1;32m     <a href='file:///home/eriklangille/ubc-SPOT/spot/mlModel/polynomial_regression.py?line=98'>99</a>\u001b[0m     np\u001b[39m.\u001b[39mpolyval(\u001b[39mself\u001b[39m\u001b[39m.\u001b[39m_model, xvars),\n\u001b[1;32m    <a href='file:///home/eriklangille/ubc-SPOT/spot/mlModel/polynomial_regression.py?line=99'>100</a>\u001b[0m     label\u001b[39m=\u001b[39m\u001b[39mself\u001b[39m\u001b[39m.\u001b[39mget_polynomial_equation_string(),\n\u001b[1;32m    <a href='file:///home/eriklangille/ubc-SPOT/spot/mlModel/polynomial_regression.py?line=100'>101</a>\u001b[0m     color\u001b[39m=\u001b[39m\u001b[39m\"\u001b[39m\u001b[39mred\u001b[39m\u001b[39m\"\u001b[39m,\n\u001b[1;32m    <a href='file:///home/eriklangille/ubc-SPOT/spot/mlModel/polynomial_regression.py?line=101'>102</a>\u001b[0m )\n\u001b[1;32m    <a href='file:///home/eriklangille/ubc-SPOT/spot/mlModel/polynomial_regression.py?line=103'>104</a>\u001b[0m \u001b[39m# Get optimal config\u001b[39;00m\n",
      "\u001b[0;31mAttributeError\u001b[0m: 'NoneType' object has no attribute 'min'"
     ]
    },
    {
     "data": {
      "image/png": "[encoded data removed]",
      "text/plain": [
       "<Figure size 432x288 with 1 Axes>"
      ]
     },
     "metadata": {
      "needs_background": "light"
     },
     "output_type": "display_data"
    }
   ],
   "source": [
    "spot.plot_memsize_vs_cost()"
   ]
  },
  {
   "cell_type": "code",
   "execution_count": null,
   "metadata": {},
   "outputs": [
    {
     "data": {
      "text/plain": [
       "1648054347030"
      ]
     },
     "execution_count": 5,
     "metadata": {},
     "output_type": "execute_result"
    }
   ],
   "source": [
    "# spot.db.execute_max_value(\"screenshot-service-dev-capture\", \"logs\", \"timestamp\")"
   ]
  }
 ],
 "metadata": {
  "interpreter": {
   "hash": "a1dc5e8aacefe90e1803a963cfd38677727ef7ad0314fc505a30dafd02a097d0"
  },
  "kernelspec": {
   "display_name": "Python 3.8.12 ('spot-env': venv)",
   "language": "python",
   "name": "python3"
  },
  "language_info": {
   "codemirror_mode": {
    "name": "ipython",
    "version": 3
   },
   "file_extension": ".py",
   "mimetype": "text/x-python",
   "name": "python",
   "nbconvert_exporter": "python",
   "pygments_lexer": "ipython3",
   "version": "3.8.12"
  },
  "orig_nbformat": 4
 },
 "nbformat": 4,
 "nbformat_minor": 2
}
